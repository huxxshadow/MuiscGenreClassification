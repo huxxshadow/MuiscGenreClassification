{
 "cells": [
  {
   "cell_type": "code",
   "execution_count": null,
   "metadata": {
    "collapsed": true
   },
   "outputs": [],
   "source": [
    "import joblib\n",
    "\n",
    "new_pipe_DecisionTreeClassifier=joblib.load('pipe_DecisionTreeClassifier.pkl')\n",
    "new_pipe_KNeighborsClassifier=joblib.load('pipe_KNeighborsClassifier.pkl')\n",
    "new_pipe_RandomForestClassifier=joblib.load('pipe_RandomForestClassifier.pkl')\n",
    "new_pipe_LinearSVC=joblib.load('pipe_LinearSVC.pkl')\n"
   ]
  },
  {
   "cell_type": "code",
   "execution_count": null,
   "outputs": [],
   "source": [
    "@dataclass\n",
    "class Features:\n",
    "    sample_rate: int = 22050\n",
    "    hop_length: int = 220\n",
    "    n_fft: int = 2048\n",
    "    n_frames_per_example: int = 1\n",
    "\n",
    "\n",
    "def load_wav(path: Union[str, Path], sample_rate: int) -> np.ndarray:\n",
    "    waveform, _ = librosa.load(path, sr=sample_rate)\n",
    "    return waveform\n",
    "\n",
    "\n",
    "def extract_features(file_path: Union[str, Path], params: Features) -> List[np.ndarray]:\n",
    "    waveform = load_wav(file_path, sample_rate=params.sample_rate)\n",
    "\n",
    "    spectrogram = librosa.feature.melspectrogram(\n",
    "        y=waveform, n_fft=params.n_fft, hop_length=params.hop_length\n",
    "    )\n",
    "\n",
    "    spectrogram = np.log(1e-20 + np.abs(spectrogram**2))\n",
    "\n",
    "    n_examples = spectrogram.shape[1] // params.n_frames_per_example\n",
    "\n",
    "    return [\n",
    "        spectrogram[\n",
    "            :, i * params.n_frames_per_example : (i + 1) * params.n_frames_per_example\n",
    "        ].reshape(1, -1)\n",
    "        for i in range(n_examples)\n",
    "    ]"
   ],
   "metadata": {
    "collapsed": false
   }
  },
  {
   "cell_type": "code",
   "execution_count": null,
   "outputs": [],
   "source": [
    "def load_folder_data(\n",
    "    path: Path, train: bool, params: Features\n",
    ") -> Tuple[List[List[np.ndarray]], List[List[str]], List[Path]]:\n",
    "    features: List[List[np.ndarray]] = []\n",
    "    labels: List[List[str]] = []\n",
    "    file_names: List[Path] = list(path.rglob(\"*.wav\"))\n",
    "\n",
    "    for file_path in file_names:\n",
    "        file_features = extract_features(file_path, params)\n",
    "\n",
    "        features.append(file_features)\n",
    "\n",
    "        if train:\n",
    "            class_name = file_path.parent.name\n",
    "            labels.append([class_name] * len(file_features))\n",
    "\n",
    "    return features, labels, file_names"
   ],
   "metadata": {
    "collapsed": false
   }
  },
  {
   "cell_type": "code",
   "execution_count": null,
   "outputs": [],
   "source": [
    "features, labels, file_names = load_folder_data(\n",
    "    path=config.train_path, train=True, params=config.features\n",
    ")\n",
    "\n",
    "\n"
   ],
   "metadata": {
    "collapsed": false
   }
  }
 ],
 "metadata": {
  "kernelspec": {
   "display_name": "Python 3",
   "language": "python",
   "name": "python3"
  },
  "language_info": {
   "codemirror_mode": {
    "name": "ipython",
    "version": 2
   },
   "file_extension": ".py",
   "mimetype": "text/x-python",
   "name": "python",
   "nbconvert_exporter": "python",
   "pygments_lexer": "ipython2",
   "version": "2.7.6"
  }
 },
 "nbformat": 4,
 "nbformat_minor": 0
}
