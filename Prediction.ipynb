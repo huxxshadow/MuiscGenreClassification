{
 "cells": [
  {
   "cell_type": "code",
   "execution_count": 1,
   "metadata": {
    "collapsed": true,
    "ExecuteTime": {
     "end_time": "2024-03-28T06:51:30.532090300Z",
     "start_time": "2024-03-28T06:51:25.267449900Z"
    }
   },
   "outputs": [],
   "source": [
    "import joblib\n",
    "import numpy as np\n",
    "import librosa\n",
    "from pathlib import Path\n",
    "from typing import Dict, List, Tuple, Union\n",
    "from dataclasses import dataclass\n",
    "import pandas as pd\n",
    "new_pipe_DecisionTreeClassifier=joblib.load('Model/pipe_DecisionTreeClassifier.pkl')\n",
    "new_pipe_KNeighborsClassifier=joblib.load('Model/pipe_KNeighborsClassifier.pkl')\n",
    "\n",
    "\n"
   ]
  },
  {
   "cell_type": "markdown",
   "source": [],
   "metadata": {
    "collapsed": false
   }
  },
  {
   "cell_type": "code",
   "execution_count": 2,
   "outputs": [
    {
     "name": "stdout",
     "output_type": "stream",
     "text": [
      "End\n"
     ]
    }
   ],
   "source": [
    "import trans\n",
    "trans.start()"
   ],
   "metadata": {
    "collapsed": false,
    "ExecuteTime": {
     "end_time": "2024-03-28T07:02:08.773364500Z",
     "start_time": "2024-03-28T07:02:05.499010Z"
    }
   }
  },
  {
   "cell_type": "code",
   "execution_count": 3,
   "outputs": [],
   "source": [
    "TRAINPATH=\"SimpleData/train\"\n",
    "TESTPATH=\"SimpleData/test\""
   ],
   "metadata": {
    "collapsed": false,
    "ExecuteTime": {
     "end_time": "2024-03-28T07:02:46.474174800Z",
     "start_time": "2024-03-28T07:02:46.467586100Z"
    }
   }
  },
  {
   "cell_type": "code",
   "execution_count": 4,
   "outputs": [],
   "source": [
    "@dataclass\n",
    "class Features:\n",
    "    sample_rate: int = 22050\n",
    "    hop_length: int = 220\n",
    "    n_fft: int = 2048\n",
    "    n_frames_per_example: int = 1\n",
    "\n",
    "\n",
    "def load_wav(path: Union[str, Path], sample_rate: int) -> np.ndarray:\n",
    "    waveform, _ = librosa.load(path, sr=sample_rate)\n",
    "    return waveform\n",
    "\n",
    "\n",
    "def extract_features(file_path: Union[str, Path], params: Features) -> List[np.ndarray]:\n",
    "    waveform = load_wav(file_path, sample_rate=params.sample_rate)\n",
    "\n",
    "    spectrogram = librosa.feature.melspectrogram(\n",
    "        y=waveform, n_fft=params.n_fft, hop_length=params.hop_length\n",
    "    )\n",
    "\n",
    "    spectrogram = np.log(1e-20 + np.abs(spectrogram**2))\n",
    "\n",
    "    n_examples = spectrogram.shape[1] // params.n_frames_per_example\n",
    "\n",
    "    return [\n",
    "        spectrogram[\n",
    "            :, i * params.n_frames_per_example : (i + 1) * params.n_frames_per_example\n",
    "        ].reshape(1, -1)\n",
    "        for i in range(n_examples)\n",
    "    ]"
   ],
   "metadata": {
    "collapsed": false,
    "ExecuteTime": {
     "end_time": "2024-03-28T07:02:48.169964500Z",
     "start_time": "2024-03-28T07:02:48.165966500Z"
    }
   }
  },
  {
   "cell_type": "code",
   "execution_count": 5,
   "outputs": [],
   "source": [
    "def load_folder_data(\n",
    "    path: Path, train: bool, params: Features\n",
    ") -> Tuple[List[List[np.ndarray]], List[List[str]], List[Path]]:\n",
    "    features: List[List[np.ndarray]] = []\n",
    "    labels: List[List[str]] = []\n",
    "    file_names: List[Path] = list(path.rglob(\"*.wav\"))\n",
    "\n",
    "    for file_path in file_names:\n",
    "        file_features = extract_features(file_path, params)\n",
    "\n",
    "        features.append(file_features)\n",
    "\n",
    "        if train:\n",
    "            class_name = file_path.parent.name\n",
    "            labels.append([class_name] * len(file_features))\n",
    "\n",
    "    return features, labels, file_names"
   ],
   "metadata": {
    "collapsed": false,
    "ExecuteTime": {
     "end_time": "2024-03-28T07:02:50.304043400Z",
     "start_time": "2024-03-28T07:02:50.289014600Z"
    }
   }
  },
  {
   "cell_type": "code",
   "execution_count": 6,
   "outputs": [],
   "source": [
    "@dataclass\n",
    "class ExpConfig:\n",
    "    features: Features = Features(\n",
    "        sample_rate=22050,\n",
    "        hop_length=220,\n",
    "        n_fft=2048,\n",
    "        n_frames_per_example=1,\n",
    "    )\n",
    "    random_state: int = 42\n",
    "    test_size: float = 0.1\n",
    "    train_path: Path = Path(TRAINPATH)\n",
    "    test_path: Path = Path(TESTPATH)\n",
    "\n",
    "config = ExpConfig()"
   ],
   "metadata": {
    "collapsed": false,
    "ExecuteTime": {
     "end_time": "2024-03-28T07:02:52.154668300Z",
     "start_time": "2024-03-28T07:02:52.145200200Z"
    }
   }
  },
  {
   "cell_type": "code",
   "execution_count": 18,
   "outputs": [],
   "source": [
    "# features, labels, file_names = load_folder_data(\n",
    "#     path=config.train_path, train=True, params=config.features\n",
    "# )\n"
   ],
   "metadata": {
    "collapsed": false,
    "ExecuteTime": {
     "end_time": "2024-03-27T15:01:39.371993200Z",
     "start_time": "2024-03-27T15:00:30.688424700Z"
    }
   }
  },
  {
   "cell_type": "code",
   "execution_count": 7,
   "outputs": [],
   "source": [
    "class_names = [folder.name for folder in config.train_path.iterdir()]"
   ],
   "metadata": {
    "collapsed": false,
    "ExecuteTime": {
     "end_time": "2024-03-28T07:02:55.232215800Z",
     "start_time": "2024-03-28T07:02:55.210350700Z"
    }
   }
  },
  {
   "cell_type": "code",
   "execution_count": 8,
   "outputs": [],
   "source": [
    "test_features, _, test_pathes = load_folder_data(\n",
    "    config.test_path, train=False, params=config.features\n",
    ")"
   ],
   "metadata": {
    "collapsed": false,
    "ExecuteTime": {
     "end_time": "2024-03-28T07:03:02.227940100Z",
     "start_time": "2024-03-28T07:02:56.226088100Z"
    }
   }
  },
  {
   "cell_type": "code",
   "execution_count": 9,
   "outputs": [],
   "source": [
    "predictions_DecisionTreeClassifier = [\n",
    "    class_names[new_pipe_DecisionTreeClassifier.predict_proba(np.vstack(test_feature)).mean(0).argmax()]\n",
    "    for test_feature in test_features\n",
    "]\n"
   ],
   "metadata": {
    "collapsed": false,
    "ExecuteTime": {
     "end_time": "2024-03-28T07:03:02.417451900Z",
     "start_time": "2024-03-28T07:03:02.230936500Z"
    }
   }
  },
  {
   "cell_type": "code",
   "execution_count": 10,
   "outputs": [],
   "source": [
    "predictions_KNeighborsClassifier = [\n",
    "    class_names[new_pipe_KNeighborsClassifier.predict_proba(np.vstack(test_feature)).mean(0).argmax()]\n",
    "    for test_feature in test_features\n",
    "]"
   ],
   "metadata": {
    "collapsed": false,
    "ExecuteTime": {
     "end_time": "2024-03-28T07:05:45.929476800Z",
     "start_time": "2024-03-28T07:03:05.424515300Z"
    }
   }
  },
  {
   "cell_type": "code",
   "execution_count": 19,
   "outputs": [],
   "source": [
    "(\n",
    "    pd.DataFrame(\n",
    "        {\n",
    "            \"index\": [\n",
    "                test_wav_path.name for test_wav_path in config.test_path.iterdir()\n",
    "            ],\n",
    "            \"genre\": predictions_DecisionTreeClassifier,\n",
    "        }\n",
    "    ).to_csv(\"Prediction/result_DecisionTreeClassifier.csv\", index=False,encoding='utf-8_sig')\n",
    ")"
   ],
   "metadata": {
    "collapsed": false,
    "ExecuteTime": {
     "end_time": "2024-03-28T07:20:00.021699900Z",
     "start_time": "2024-03-28T07:20:00.011181700Z"
    }
   }
  },
  {
   "cell_type": "code",
   "execution_count": 20,
   "outputs": [],
   "source": [
    "(\n",
    "    pd.DataFrame(\n",
    "        {\n",
    "            \"index\": [\n",
    "                test_wav_path.name for test_wav_path in config.test_path.iterdir()\n",
    "            ],\n",
    "            \"genre\": predictions_KNeighborsClassifier,\n",
    "        }\n",
    "    ).to_csv(\"Prediction/result_KNeighborsClassifier.csv\", index=False,encoding='utf-8_sig')\n",
    ")\n"
   ],
   "metadata": {
    "collapsed": false,
    "ExecuteTime": {
     "end_time": "2024-03-28T07:20:01.241016300Z",
     "start_time": "2024-03-28T07:20:01.222547700Z"
    }
   }
  },
  {
   "cell_type": "code",
   "execution_count": 60,
   "outputs": [
    {
     "ename": "AttributeError",
     "evalue": "module 'trans' has no attribute 'endall'",
     "output_type": "error",
     "traceback": [
      "\u001B[1;31m---------------------------------------------------------------------------\u001B[0m",
      "\u001B[1;31mAttributeError\u001B[0m                            Traceback (most recent call last)",
      "Cell \u001B[1;32mIn[60], line 1\u001B[0m\n\u001B[1;32m----> 1\u001B[0m \u001B[43mtrans\u001B[49m\u001B[38;5;241;43m.\u001B[39;49m\u001B[43mendall\u001B[49m()\n",
      "\u001B[1;31mAttributeError\u001B[0m: module 'trans' has no attribute 'endall'"
     ]
    }
   ],
   "source": [],
   "metadata": {
    "collapsed": false,
    "ExecuteTime": {
     "end_time": "2024-03-27T15:37:02.356414500Z",
     "start_time": "2024-03-27T15:37:02.333419500Z"
    }
   }
  }
 ],
 "metadata": {
  "kernelspec": {
   "display_name": "Python 3",
   "language": "python",
   "name": "python3"
  },
  "language_info": {
   "codemirror_mode": {
    "name": "ipython",
    "version": 2
   },
   "file_extension": ".py",
   "mimetype": "text/x-python",
   "name": "python",
   "nbconvert_exporter": "python",
   "pygments_lexer": "ipython2",
   "version": "2.7.6"
  }
 },
 "nbformat": 4,
 "nbformat_minor": 0
}
