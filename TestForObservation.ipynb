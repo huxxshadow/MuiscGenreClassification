{
 "cells": [
  {
   "cell_type": "code",
   "execution_count": 6,
   "metadata": {
    "collapsed": true,
    "ExecuteTime": {
     "end_time": "2024-03-21T09:54:30.534855500Z",
     "start_time": "2024-03-21T09:54:30.530793900Z"
    }
   },
   "outputs": [],
   "source": [
    "from dataclasses import dataclass\n",
    "# from math import gcd\n",
    "import numpy as np\n",
    "import librosa\n",
    "from pathlib import Path\n",
    "import pandas as pd\n",
    "import thinkdsp\n",
    "from matplotlib import pyplot as plt\n",
    "from typing import Dict, List, Tuple, Union"
   ]
  },
  {
   "cell_type": "code",
   "execution_count": 7,
   "outputs": [],
   "source": [
    "TRAINPATH=\"SimpleData/train\""
   ],
   "metadata": {
    "collapsed": false,
    "ExecuteTime": {
     "end_time": "2024-03-21T09:54:30.558846500Z",
     "start_time": "2024-03-21T09:54:30.534855500Z"
    }
   }
  },
  {
   "cell_type": "code",
   "execution_count": 12,
   "outputs": [],
   "source": [
    "@dataclass\n",
    "class Features:\n",
    "    sample_rate: int = 22050\n",
    "    hop_length: int = 220\n",
    "    n_fft: int = 2048\n",
    "    n_frames_per_example: int = 1\n",
    "\n",
    "def load_wav(path: Union[str, Path], sample_rate: int) -> np.ndarray:\n",
    "    waveform, _ = librosa.load(path, sr=sample_rate)\n",
    "    return waveform\n",
    "\n",
    "\n",
    "def extract_features(file_path: Union[str, Path], params: Features) -> List[np.ndarray]:\n",
    "    # waveform = load_wav(file_path, sample_rate=params.sample_rate)\n",
    "    wave=thinkdsp.read_wave(str(file_path))\n",
    "\n",
    "    # spectrogram = librosa.feature.melspectrogram(\n",
    "    #     y=waveform, n_fft=params.n_fft, hop_length=params.hop_length\n",
    "    # )\n",
    "    spectrogram=wave.make_spectrogram(seg_length=4096)\n",
    "    spectrogram = np.log(1e-20 + np.abs(spectrogram**2))\n",
    "\n",
    "    n_examples = spectrogram.shape[1] // params.n_frames_per_example\n",
    "\n",
    "    return [\n",
    "        spectrogram[\n",
    "            :, i * params.n_frames_per_example : (i + 1) * params.n_frames_per_example\n",
    "        ].reshape(1, -1)\n",
    "        for i in range(n_examples)\n",
    "    ]\n"
   ],
   "metadata": {
    "collapsed": false,
    "ExecuteTime": {
     "end_time": "2024-03-21T09:56:02.256027400Z",
     "start_time": "2024-03-21T09:56:02.244290400Z"
    }
   }
  },
  {
   "cell_type": "code",
   "execution_count": 13,
   "outputs": [
    {
     "ename": "TypeError",
     "evalue": "slice indices must be integers or None or have an __index__ method",
     "output_type": "error",
     "traceback": [
      "\u001B[1;31m---------------------------------------------------------------------------\u001B[0m",
      "\u001B[1;31mTypeError\u001B[0m                                 Traceback (most recent call last)",
      "Cell \u001B[1;32mIn[13], line 8\u001B[0m\n\u001B[0;32m      2\u001B[0m PARAMS \u001B[38;5;241m=\u001B[39m Features(n_frames_per_example\u001B[38;5;241m=\u001B[39m\u001B[38;5;241m15\u001B[39m)\n\u001B[0;32m      4\u001B[0m \u001B[38;5;66;03m# ipd.display(ipd.Audio(PATH))\u001B[39;00m\n\u001B[0;32m      6\u001B[0m sample_features \u001B[38;5;241m=\u001B[39m [\n\u001B[0;32m      7\u001B[0m     feature\u001B[38;5;241m.\u001B[39mreshape(\u001B[38;5;241m-\u001B[39m\u001B[38;5;241m1\u001B[39m, PARAMS\u001B[38;5;241m.\u001B[39mn_frames_per_example)\n\u001B[1;32m----> 8\u001B[0m     \u001B[38;5;28;01mfor\u001B[39;00m feature \u001B[38;5;129;01min\u001B[39;00m \u001B[43mextract_features\u001B[49m\u001B[43m(\u001B[49m\u001B[43mfile_path\u001B[49m\u001B[38;5;241;43m=\u001B[39;49m\u001B[43mPATH\u001B[49m\u001B[43m,\u001B[49m\u001B[43m \u001B[49m\u001B[43mparams\u001B[49m\u001B[38;5;241;43m=\u001B[39;49m\u001B[43mPARAMS\u001B[49m\u001B[43m)\u001B[49m\n\u001B[0;32m      9\u001B[0m ]\n\u001B[0;32m     11\u001B[0m plt\u001B[38;5;241m.\u001B[39mfigure(figsize\u001B[38;5;241m=\u001B[39m(\u001B[38;5;241m20\u001B[39m, \u001B[38;5;241m5\u001B[39m))\n\u001B[0;32m     12\u001B[0m plt\u001B[38;5;241m.\u001B[39mtitle(\u001B[38;5;124m\"\u001B[39m\u001B[38;5;124mSpectrogram\u001B[39m\u001B[38;5;124m\"\u001B[39m)\n",
      "Cell \u001B[1;32mIn[12], line 20\u001B[0m, in \u001B[0;36mextract_features\u001B[1;34m(file_path, params)\u001B[0m\n\u001B[0;32m     15\u001B[0m wave\u001B[38;5;241m=\u001B[39mthinkdsp\u001B[38;5;241m.\u001B[39mread_wave(\u001B[38;5;28mstr\u001B[39m(file_path))\n\u001B[0;32m     17\u001B[0m \u001B[38;5;66;03m# spectrogram = librosa.feature.melspectrogram(\u001B[39;00m\n\u001B[0;32m     18\u001B[0m \u001B[38;5;66;03m#     y=waveform, n_fft=params.n_fft, hop_length=params.hop_length\u001B[39;00m\n\u001B[0;32m     19\u001B[0m \u001B[38;5;66;03m# )\u001B[39;00m\n\u001B[1;32m---> 20\u001B[0m spectrogram\u001B[38;5;241m=\u001B[39m\u001B[43mwave\u001B[49m\u001B[38;5;241;43m.\u001B[39;49m\u001B[43mmake_spectrogram\u001B[49m\u001B[43m(\u001B[49m\u001B[43mseg_length\u001B[49m\u001B[38;5;241;43m=\u001B[39;49m\u001B[38;5;241;43m4096\u001B[39;49m\u001B[43m)\u001B[49m\n\u001B[0;32m     21\u001B[0m spectrogram \u001B[38;5;241m=\u001B[39m np\u001B[38;5;241m.\u001B[39mlog(\u001B[38;5;241m1e-20\u001B[39m \u001B[38;5;241m+\u001B[39m np\u001B[38;5;241m.\u001B[39mabs(spectrogram\u001B[38;5;241m*\u001B[39m\u001B[38;5;241m*\u001B[39m\u001B[38;5;241m2\u001B[39m))\n\u001B[0;32m     23\u001B[0m n_examples \u001B[38;5;241m=\u001B[39m spectrogram\u001B[38;5;241m.\u001B[39mshape[\u001B[38;5;241m1\u001B[39m] \u001B[38;5;241m/\u001B[39m\u001B[38;5;241m/\u001B[39m params\u001B[38;5;241m.\u001B[39mn_frames_per_example\n",
      "File \u001B[1;32mE:\\Program\\Anaconda\\envs\\MuiscGenreClassification_env\\lib\\site-packages\\thinkdsp.py:943\u001B[0m, in \u001B[0;36mWave.make_spectrogram\u001B[1;34m(self, seg_length, win_flag)\u001B[0m\n\u001B[0;32m    940\u001B[0m spec_map \u001B[38;5;241m=\u001B[39m {}\n\u001B[0;32m    942\u001B[0m \u001B[38;5;28;01mwhile\u001B[39;00m j \u001B[38;5;241m<\u001B[39m \u001B[38;5;28mlen\u001B[39m(\u001B[38;5;28mself\u001B[39m\u001B[38;5;241m.\u001B[39mys):\n\u001B[1;32m--> 943\u001B[0m     segment \u001B[38;5;241m=\u001B[39m \u001B[38;5;28;43mself\u001B[39;49m\u001B[38;5;241;43m.\u001B[39;49m\u001B[43mslice\u001B[49m\u001B[43m(\u001B[49m\u001B[43mi\u001B[49m\u001B[43m,\u001B[49m\u001B[43m \u001B[49m\u001B[43mj\u001B[49m\u001B[43m)\u001B[49m\n\u001B[0;32m    944\u001B[0m     \u001B[38;5;28;01mif\u001B[39;00m win_flag:\n\u001B[0;32m    945\u001B[0m         segment\u001B[38;5;241m.\u001B[39mwindow(window)\n",
      "File \u001B[1;32mE:\\Program\\Anaconda\\envs\\MuiscGenreClassification_env\\lib\\site-packages\\thinkdsp.py:897\u001B[0m, in \u001B[0;36mWave.slice\u001B[1;34m(self, i, j)\u001B[0m\n\u001B[0;32m    891\u001B[0m \u001B[38;5;28;01mdef\u001B[39;00m \u001B[38;5;21mslice\u001B[39m(\u001B[38;5;28mself\u001B[39m, i, j):\n\u001B[0;32m    892\u001B[0m \u001B[38;5;250m    \u001B[39m\u001B[38;5;124;03m\"\"\"Makes a slice from a Wave.\u001B[39;00m\n\u001B[0;32m    893\u001B[0m \n\u001B[0;32m    894\u001B[0m \u001B[38;5;124;03m    i: first slice index\u001B[39;00m\n\u001B[0;32m    895\u001B[0m \u001B[38;5;124;03m    j: second slice index\u001B[39;00m\n\u001B[0;32m    896\u001B[0m \u001B[38;5;124;03m    \"\"\"\u001B[39;00m\n\u001B[1;32m--> 897\u001B[0m     ys \u001B[38;5;241m=\u001B[39m \u001B[38;5;28;43mself\u001B[39;49m\u001B[38;5;241;43m.\u001B[39;49m\u001B[43mys\u001B[49m\u001B[43m[\u001B[49m\u001B[43mi\u001B[49m\u001B[43m:\u001B[49m\u001B[43mj\u001B[49m\u001B[43m]\u001B[49m\u001B[38;5;241m.\u001B[39mcopy()\n\u001B[0;32m    898\u001B[0m     ts \u001B[38;5;241m=\u001B[39m \u001B[38;5;28mself\u001B[39m\u001B[38;5;241m.\u001B[39mts[i:j]\u001B[38;5;241m.\u001B[39mcopy()\n\u001B[0;32m    899\u001B[0m     \u001B[38;5;28;01mreturn\u001B[39;00m Wave(ys, ts, \u001B[38;5;28mself\u001B[39m\u001B[38;5;241m.\u001B[39mframerate)\n",
      "\u001B[1;31mTypeError\u001B[0m: slice indices must be integers or None or have an __index__ method"
     ]
    }
   ],
   "source": [
    "\n",
    "PATH = TRAINPATH + \"/classical/1429195257218202828.wav\"\n",
    "PARAMS = Features(n_frames_per_example=15)\n",
    "\n",
    "# ipd.display(ipd.Audio(PATH))\n",
    "\n",
    "sample_features = [\n",
    "    feature.reshape(-1, PARAMS.n_frames_per_example)\n",
    "    for feature in extract_features(file_path=PATH, params=PARAMS)\n",
    "]\n",
    "\n",
    "plt.figure(figsize=(20, 5))\n",
    "plt.title(\"Spectrogram\")\n",
    "plt.imshow(np.hstack(sample_features), cmap=\"plasma\")\n",
    "plt.axis(\"off\")\n",
    "plt.savefig(\"spectrogram.png\", dpi=200)\n",
    "plt.show()\n",
    "\n",
    "plt.figure(figsize=(20, 5))\n",
    "for i, feature in enumerate(sample_features):\n",
    "    plt.subplot(1, len(sample_features) + 1, i + 1)\n",
    "    plt.imshow(feature, cmap=\"plasma\")\n",
    "    plt.axis(\"off\")\n",
    "plt.show()"
   ],
   "metadata": {
    "collapsed": false,
    "ExecuteTime": {
     "end_time": "2024-03-21T09:56:05.563770600Z",
     "start_time": "2024-03-21T09:56:05.507907100Z"
    }
   }
  }
 ],
 "metadata": {
  "kernelspec": {
   "display_name": "Python 3",
   "language": "python",
   "name": "python3"
  },
  "language_info": {
   "codemirror_mode": {
    "name": "ipython",
    "version": 2
   },
   "file_extension": ".py",
   "mimetype": "text/x-python",
   "name": "python",
   "nbconvert_exporter": "python",
   "pygments_lexer": "ipython2",
   "version": "2.7.6"
  }
 },
 "nbformat": 4,
 "nbformat_minor": 0
}
